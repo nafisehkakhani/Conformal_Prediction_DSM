{
 "cells": [
  {
   "cell_type": "code",
   "execution_count": 1,
   "metadata": {},
   "outputs": [],
   "source": [
    "# read csv\n",
    "import pandas as pd\n",
    "import numpy as np\n",
    "import matplotlib.pyplot as plt\n",
    "import numpy as np\n",
    "import matplotlib.cm as cm"
   ]
  },
  {
   "cell_type": "code",
   "execution_count": 2,
   "metadata": {},
   "outputs": [],
   "source": [
    "LUCAS_cqr = pd.read_csv('D:\\Conformal_prediction_all_exprs\\Conformal_Prediction_DSM\\LUCAS_2015_BootRF.csv') #This is the final result of CQR\n",
    "# LUCAS_cqr = pd.read_csv('D:\\Conformalized_Quantile_Regression\\LUCAS_2015_rf.csv') #This is the final result of RF\n",
    "\n",
    "# LUCAS_all = pd.read_csv('D:\\Conformalized_Quantile_Regression\\LUCAS_2015_all.csv')"
   ]
  },
  {
   "cell_type": "code",
   "execution_count": 3,
   "metadata": {},
   "outputs": [
    {
     "data": {
      "text/html": [
       "<div>\n",
       "<style scoped>\n",
       "    .dataframe tbody tr th:only-of-type {\n",
       "        vertical-align: middle;\n",
       "    }\n",
       "\n",
       "    .dataframe tbody tr th {\n",
       "        vertical-align: top;\n",
       "    }\n",
       "\n",
       "    .dataframe thead th {\n",
       "        text-align: right;\n",
       "    }\n",
       "</style>\n",
       "<table border=\"1\" class=\"dataframe\">\n",
       "  <thead>\n",
       "    <tr style=\"text-align: right;\">\n",
       "      <th></th>\n",
       "      <th>BootRF_lower_oc</th>\n",
       "      <th>BootRF_upper_oc</th>\n",
       "      <th>BootRF_predicted_oc</th>\n",
       "      <th>BootRF_standard_uncertainty</th>\n",
       "      <th>BootRF_test_oc</th>\n",
       "      <th>BootRF_Point_ID</th>\n",
       "    </tr>\n",
       "  </thead>\n",
       "  <tbody>\n",
       "    <tr>\n",
       "      <th>0</th>\n",
       "      <td>10.281106</td>\n",
       "      <td>15.951008</td>\n",
       "      <td>13.116057</td>\n",
       "      <td>0.109864</td>\n",
       "      <td>17.1</td>\n",
       "      <td>31302190</td>\n",
       "    </tr>\n",
       "    <tr>\n",
       "      <th>1</th>\n",
       "      <td>25.383073</td>\n",
       "      <td>36.942138</td>\n",
       "      <td>31.162606</td>\n",
       "      <td>0.223978</td>\n",
       "      <td>52.1</td>\n",
       "      <td>35262906</td>\n",
       "    </tr>\n",
       "    <tr>\n",
       "      <th>2</th>\n",
       "      <td>29.430188</td>\n",
       "      <td>45.921814</td>\n",
       "      <td>37.676001</td>\n",
       "      <td>0.319555</td>\n",
       "      <td>102.5</td>\n",
       "      <td>29702264</td>\n",
       "    </tr>\n",
       "    <tr>\n",
       "      <th>3</th>\n",
       "      <td>10.471563</td>\n",
       "      <td>15.386438</td>\n",
       "      <td>12.929001</td>\n",
       "      <td>0.095234</td>\n",
       "      <td>13.9</td>\n",
       "      <td>30902056</td>\n",
       "    </tr>\n",
       "    <tr>\n",
       "      <th>4</th>\n",
       "      <td>19.112609</td>\n",
       "      <td>35.065492</td>\n",
       "      <td>27.089051</td>\n",
       "      <td>0.309116</td>\n",
       "      <td>47.5</td>\n",
       "      <td>32062150</td>\n",
       "    </tr>\n",
       "    <tr>\n",
       "      <th>...</th>\n",
       "      <td>...</td>\n",
       "      <td>...</td>\n",
       "      <td>...</td>\n",
       "      <td>...</td>\n",
       "      <td>...</td>\n",
       "      <td>...</td>\n",
       "    </tr>\n",
       "    <tr>\n",
       "      <th>1995</th>\n",
       "      <td>15.115732</td>\n",
       "      <td>20.091812</td>\n",
       "      <td>17.603772</td>\n",
       "      <td>0.096420</td>\n",
       "      <td>13.4</td>\n",
       "      <td>27661882</td>\n",
       "    </tr>\n",
       "    <tr>\n",
       "      <th>1996</th>\n",
       "      <td>12.537208</td>\n",
       "      <td>19.513484</td>\n",
       "      <td>16.025346</td>\n",
       "      <td>0.135178</td>\n",
       "      <td>17.6</td>\n",
       "      <td>34502026</td>\n",
       "    </tr>\n",
       "    <tr>\n",
       "      <th>1997</th>\n",
       "      <td>15.934942</td>\n",
       "      <td>21.310980</td>\n",
       "      <td>18.622961</td>\n",
       "      <td>0.104170</td>\n",
       "      <td>57.3</td>\n",
       "      <td>42943686</td>\n",
       "    </tr>\n",
       "    <tr>\n",
       "      <th>1998</th>\n",
       "      <td>22.519371</td>\n",
       "      <td>40.524304</td>\n",
       "      <td>31.521838</td>\n",
       "      <td>0.348878</td>\n",
       "      <td>10.2</td>\n",
       "      <td>41083370</td>\n",
       "    </tr>\n",
       "    <tr>\n",
       "      <th>1999</th>\n",
       "      <td>30.729952</td>\n",
       "      <td>43.471686</td>\n",
       "      <td>37.100819</td>\n",
       "      <td>0.246894</td>\n",
       "      <td>49.3</td>\n",
       "      <td>34363158</td>\n",
       "    </tr>\n",
       "  </tbody>\n",
       "</table>\n",
       "<p>2000 rows × 6 columns</p>\n",
       "</div>"
      ],
      "text/plain": [
       "      BootRF_lower_oc  BootRF_upper_oc  BootRF_predicted_oc  \\\n",
       "0           10.281106        15.951008            13.116057   \n",
       "1           25.383073        36.942138            31.162606   \n",
       "2           29.430188        45.921814            37.676001   \n",
       "3           10.471563        15.386438            12.929001   \n",
       "4           19.112609        35.065492            27.089051   \n",
       "...               ...              ...                  ...   \n",
       "1995        15.115732        20.091812            17.603772   \n",
       "1996        12.537208        19.513484            16.025346   \n",
       "1997        15.934942        21.310980            18.622961   \n",
       "1998        22.519371        40.524304            31.521838   \n",
       "1999        30.729952        43.471686            37.100819   \n",
       "\n",
       "      BootRF_standard_uncertainty  BootRF_test_oc  BootRF_Point_ID  \n",
       "0                        0.109864            17.1         31302190  \n",
       "1                        0.223978            52.1         35262906  \n",
       "2                        0.319555           102.5         29702264  \n",
       "3                        0.095234            13.9         30902056  \n",
       "4                        0.309116            47.5         32062150  \n",
       "...                           ...             ...              ...  \n",
       "1995                     0.096420            13.4         27661882  \n",
       "1996                     0.135178            17.6         34502026  \n",
       "1997                     0.104170            57.3         42943686  \n",
       "1998                     0.348878            10.2         41083370  \n",
       "1999                     0.246894            49.3         34363158  \n",
       "\n",
       "[2000 rows x 6 columns]"
      ]
     },
     "execution_count": 3,
     "metadata": {},
     "output_type": "execute_result"
    }
   ],
   "source": [
    "LUCAS_cqr"
   ]
  },
  {
   "cell_type": "code",
   "execution_count": 5,
   "metadata": {},
   "outputs": [
    {
     "name": "stdout",
     "output_type": "stream",
     "text": [
      " (1/n) Calculating accuracy metrics\n",
      " (2/n) Calculating average calibration metrics\n",
      " (3/n) Calculating adversarial group calibration metrics\n",
      "  [1/2] for mean absolute calibration error\n",
      "Measuring adversarial group calibration by spanning group size between 0.0 and 1.0, in 10 intervals\n"
     ]
    },
    {
     "name": "stderr",
     "output_type": "stream",
     "text": [
      "100%|██████████| 10/10 [00:00<00:00, 13.23it/s]\n"
     ]
    },
    {
     "name": "stdout",
     "output_type": "stream",
     "text": [
      "  [2/2] for root mean squared calibration error\n",
      "Measuring adversarial group calibration by spanning group size between 0.0 and 1.0, in 10 intervals\n"
     ]
    },
    {
     "name": "stderr",
     "output_type": "stream",
     "text": [
      "100%|██████████| 10/10 [00:00<00:00, 13.60it/s]\n"
     ]
    },
    {
     "name": "stdout",
     "output_type": "stream",
     "text": [
      " (4/n) Calculating sharpness metrics\n",
      " (n/n) Calculating proper scoring rule metrics\n",
      "**Finished Calculating All Metrics**\n",
      "\n",
      "\n",
      "===================== Accuracy Metrics =====================\n",
      "  MAE           15.080\n",
      "  RMSE          37.614\n",
      "  MDAE          6.586\n",
      "  MARPD         43.029\n",
      "  R2            0.283\n",
      "  Correlation   0.562\n",
      "=============== Average Calibration Metrics ================\n",
      "  Root-mean-squared Calibration Error   0.271\n",
      "  Mean-absolute Calibration Error       0.243\n",
      "  Miscalibration Area                   0.245\n",
      "========== Adversarial Group Calibration Metrics ===========\n",
      "  Mean-absolute Adversarial Group Calibration Error\n",
      "     Group Size: 0.11 -- Calibration Error: 0.263\n",
      "     Group Size: 0.56 -- Calibration Error: 0.253\n",
      "     Group Size: 1.00 -- Calibration Error: 0.243\n",
      "  Root-mean-squared Adversarial Group Calibration Error\n",
      "     Group Size: 0.11 -- Calibration Error: 0.311\n",
      "     Group Size: 0.56 -- Calibration Error: 0.281\n",
      "     Group Size: 1.00 -- Calibration Error: 0.271\n",
      "==================== Sharpness Metrics =====================\n",
      "  Sharpness   10.857\n",
      "=================== Scoring Rule Metrics ===================\n",
      "  Negative-log-likelihood   11.430\n",
      "  CRPS                      12.446\n",
      "  Check Score               6.261\n",
      "  Interval Score            91.823\n"
     ]
    }
   ],
   "source": [
    "import uncertainty_toolbox as uct\n",
    "\n",
    "y = np.asarray(LUCAS_cqr['BootRF_test_oc'])\n",
    "\n",
    "predictions = list(zip(np.asarray(LUCAS_cqr['BootRF_lower_oc']), np.asarray(LUCAS_cqr['BootRF_upper_oc'])))\n",
    "predictions_std = [np.std(sample) for sample in predictions]\n",
    "y_pred = [np.mean(sample) for sample in predictions]\n",
    "\n",
    "# Compute all uncertainty metrics\n",
    "metrics = uct.metrics.get_all_metrics(np.array(y_pred), np.array(predictions_std), np.array(y))"
   ]
  },
  {
   "cell_type": "code",
   "execution_count": null,
   "metadata": {},
   "outputs": [],
   "source": [
    "# # Plot confidence bands on test data\n",
    "# uct.viz.plot_xy(np.array(y_pred), np.array(predictions_std), np.array(y))\n",
    "# plt.gcf().set_size_inches(8, 8)"
   ]
  },
  {
   "cell_type": "code",
   "execution_count": 6,
   "metadata": {},
   "outputs": [
    {
     "data": {
      "image/png": "[encoded data removed]",
      "text/plain": [
       "<Figure size 576x576 with 1 Axes>"
      ]
     },
     "metadata": {
      "needs_background": "light"
     },
     "output_type": "display_data"
    }
   ],
   "source": [
    "# Plot ordered prediction intervals\n",
    "uct.viz.plot_intervals_ordered(np.array(y_pred[::50]), np.array(predictions_std[::50]), np.array(y[::50]))\n",
    "plt.gcf().set_size_inches(8, 8)"
   ]
  },
  {
   "cell_type": "code",
   "execution_count": 7,
   "metadata": {},
   "outputs": [
    {
     "data": {
      "image/png": "[encoded data removed]",
      "text/plain": [
       "<Figure size 576x576 with 1 Axes>"
      ]
     },
     "metadata": {
      "needs_background": "light"
     },
     "output_type": "display_data"
    }
   ],
   "source": [
    "# Plot average calibration\n",
    "uct.viz.plot_calibration(np.array(y_pred), np.array(predictions_std), np.array(y))\n",
    "plt.gcf().set_size_inches(8, 8)"
   ]
  },
  {
   "cell_type": "code",
   "execution_count": null,
   "metadata": {},
   "outputs": [],
   "source": [
    "LUCAS_all"
   ]
  },
  {
   "cell_type": "code",
   "execution_count": null,
   "metadata": {},
   "outputs": [],
   "source": [
    "# List of columns to keep from LUCAS_all\n",
    "columns_to_keep = ['Point_ID', 'long', 'lat', 'LC0_Desc', 'LC1_Desc', 'LU1_Desc']"
   ]
  },
  {
   "cell_type": "code",
   "execution_count": null,
   "metadata": {},
   "outputs": [],
   "source": [
    "cqr_all = pd.merge(LUCAS_cqr, LUCAS_all[columns_to_keep], on='Point_ID', how='left')\n",
    "cqr_all"
   ]
  },
  {
   "cell_type": "code",
   "execution_count": null,
   "metadata": {},
   "outputs": [],
   "source": [
    "plt.figure(figsize=(20, 10))\n",
    "colors = ['#43a2f8', '#f27085', '#2ca02c', '#ffd700']\n",
    "\n",
    "plt.hist(cqr_all['standard_uncertainty'], bins=1000, alpha=0.5, label='y_real', color=colors[0])\n",
    "# plt.hist(cqr_all['predicted_oc'], bins=100, alpha=0.5, label='y_rf', color=colors[1])\n",
    "\n",
    "plt.legend(loc='upper right')\n",
    "plt.show()"
   ]
  },
  {
   "cell_type": "code",
   "execution_count": null,
   "metadata": {},
   "outputs": [],
   "source": [
    "# Define the bin edges and labels\n",
    "bins = [-float('inf'), 1, float('inf')]\n",
    "labels = ['Low', 'High']\n",
    "\n",
    "# Use pd.cut to categorize the 'un' column\n",
    "cqr_all['Category'] = pd.cut(cqr_all['standard_uncertainty'], bins=bins, labels=labels)"
   ]
  },
  {
   "cell_type": "code",
   "execution_count": null,
   "metadata": {},
   "outputs": [],
   "source": [
    "cqr_all"
   ]
  },
  {
   "cell_type": "code",
   "execution_count": null,
   "metadata": {},
   "outputs": [],
   "source": [
    "# Eliminate rows with 'Low' category\n",
    "cqr_high = cqr_all[cqr_all['Category'] == 'High']\n",
    "\n",
    "# Eliminate rows with 'Low' category\n",
    "cqr_low = cqr_all[cqr_all['Category'] == 'Low']"
   ]
  },
  {
   "cell_type": "code",
   "execution_count": null,
   "metadata": {},
   "outputs": [],
   "source": [
    "# cqr_all.to_csv('D:\\Conformalized_Quantile_Regression\\LUCAS_2015_cqr_all.csv', index = False)\n",
    "# cqr_low.to_csv('D:\\Conformalized_Quantile_Regression\\LUCAS_2015_cqr_low.csv', index = False)\n",
    "# cqr_high.to_csv('D:\\Conformalized_Quantile_Regression\\LUCAS_2015_cqr_high.csv', index = False)"
   ]
  },
  {
   "cell_type": "code",
   "execution_count": null,
   "metadata": {},
   "outputs": [],
   "source": [
    "def plot_uncertainty(category_column, standard_uncertainty):\n",
    "    # Get unique categories in the categorical column\n",
    "    unique_categories = np.unique(category_column)\n",
    "\n",
    "    # Calculate the mean MAE for each category\n",
    "    mean_standard_uncertainty = []\n",
    "    counts = []\n",
    "    for category in unique_categories:\n",
    "        category_indices = category_column == category\n",
    "        category_standard_uncertainty = standard_uncertainty[category_indices]\n",
    "        mean_standard_uncertainty.append(np.mean(category_standard_uncertainty))\n",
    "        counts.append(np.sum(category_indices))\n",
    "\n",
    "    plt.figure(figsize=(20, 10), facecolor='white')\n",
    "    # Create a ScalarMappable object to map colors to counts\n",
    "    norm = plt.Normalize(min(counts), max(counts))\n",
    "    cmap = cm.get_cmap('coolwarm')\n",
    "    sm = cm.ScalarMappable(norm=norm, cmap=cmap)\n",
    "    sm.set_array([])\n",
    "\n",
    "    # Plot the bar plot with colored bars\n",
    "    bars = plt.bar(unique_categories, mean_standard_uncertainty, color=sm.to_rgba(counts))\n",
    "\n",
    "    # Create a color legend\n",
    "    cbar = plt.colorbar(sm)\n",
    "    cbar.set_label('Counts')\n",
    "\n",
    "    # Rotate x-axis labels (if needed)\n",
    "    plt.xticks(rotation=90)  # You can adjust the rotation as needed\n",
    "\n",
    "    plt.xlabel('Categories')\n",
    "    plt.ylabel('Mean standard_uncertainty')\n",
    "    plt.title('Mean standard_uncertainty per Category')\n",
    "    plt.show()\n"
   ]
  },
  {
   "cell_type": "code",
   "execution_count": null,
   "metadata": {},
   "outputs": [],
   "source": [
    "# Example usage\n",
    "category_column = cqr_all['LC0_Desc']  # Replace 'Category' with the name of your categorical column\n",
    "standard_uncertainty = cqr_all['standard_uncertainty']\n",
    "plot_uncertainty(category_column, standard_uncertainty )"
   ]
  },
  {
   "cell_type": "code",
   "execution_count": null,
   "metadata": {},
   "outputs": [],
   "source": [
    "def plot_func_data(y_test,y_lower,y_upper,name=\"\"):\n",
    "    \"\"\" Plot the test labels along with the constructed prediction band\n",
    "\n",
    "    Parameters\n",
    "    ----------\n",
    "\n",
    "    y_test : numpy array, true labels (n)\n",
    "    y_lower : numpy array, estimated lower bound for the labels (n)\n",
    "    y_upper : numpy array, estimated upper bound for the labels (n)\n",
    "    name : string, optional output string (e.g. the method name)\n",
    "\n",
    "    \"\"\"\n",
    "\n",
    "    # allowed to import graphics\n",
    "    import matplotlib.pyplot as plt\n",
    "\n",
    "    interval = y_upper - y_lower\n",
    "    sort_ind = np.argsort(interval)\n",
    "    y_test_sorted = y_test[sort_ind]\n",
    "    upper_sorted = y_upper[sort_ind]\n",
    "    lower_sorted = y_lower[sort_ind]\n",
    "    mean = (upper_sorted + lower_sorted) / 2\n",
    "\n",
    "    # # Center such that the mean of the prediction interval is at 0.0\n",
    "    # y_test_sorted -= mean\n",
    "    # upper_sorted -= mean\n",
    "    # lower_sorted -= mean\n",
    "\n",
    "    plt.figure(figsize=(20, 10), facecolor='white')\n",
    "    # Plot each sample as a circle with a black edge and transparent filling\n",
    "    plt.scatter(range(len(y_test_sorted)), y_test_sorted,\n",
    "                 label='Test Values', color='none', edgecolors='black', alpha=0.3, marker='o')\n",
    "    plt.fill_between(\n",
    "        np.arange(len(upper_sorted)), lower_sorted, upper_sorted, alpha=0.2, color=\"r\",\n",
    "        label=\"Pred. interval\")\n",
    "    plt.xlabel(\"Ordered samples\", fontsize=14, fontweight='bold')\n",
    "    plt.ylabel(\"Values and prediction intervals\", fontsize=14, fontweight='bold')\n",
    "\n",
    "    plt.title(name, fontsize=16, fontweight='bold')\n",
    "    plt.show()\n",
    "\n",
    "    # interval = y_upper - y_lower\n",
    "    # sort_ind = np.argsort(y_test)\n",
    "    # y_test_sorted = y_test[sort_ind]\n",
    "    # upper_sorted = y_upper[sort_ind]\n",
    "    # lower_sorted = y_lower[sort_ind]\n",
    "\n",
    "    # plt.figure(figsize=(20, 10), facecolor='white')\n",
    "    # plt.scatter(range(len(y_test_sorted)), y_test_sorted,\n",
    "    #              label='Test Values', color='none', edgecolors='black', alpha=0.3, marker='o')\n",
    "    # plt.fill_between(\n",
    "    #     np.arange(len(upper_sorted)), lower_sorted, upper_sorted, alpha=0.2, color=\"r\",\n",
    "    #     label=\"Pred. interval\")\n",
    "    # plt.xlabel(\"Ordered samples by response\")\n",
    "    # plt.ylabel(\"Values and prediction intervals\")\n",
    "\n",
    "    # plt.title(name)\n",
    "    # plt.show()\n"
   ]
  },
  {
   "cell_type": "code",
   "execution_count": null,
   "metadata": {},
   "outputs": [],
   "source": [
    "# Get unique categories from the 'LC0_Desc' column\n",
    "unique_categories = cqr_all['LC0_Desc'].unique()\n",
    "\n",
    "# Iterate through unique categories\n",
    "for category in unique_categories:\n",
    "    # Filter the DataFrame to include only rows where 'LC0_Desc' equals the current category\n",
    "    filtered_df = cqr_all[cqr_all['LC0_Desc'] == category]\n",
    "    \n",
    "    # Reset the index of filtered_df\n",
    "    filtered_df = filtered_df.reset_index(drop=True)\n",
    "    \n",
    "    # Extract the relevant columns for the function\n",
    "    y_test = filtered_df['test_oc']  # Replace with the actual column name\n",
    "    y_lower = filtered_df['lower_oc']  # Replace with the actual column name\n",
    "    y_upper = filtered_df['upper_oc']  # Replace with the actual column name\n",
    "    \n",
    "    # Call the plot_func_data function with the filtered data and a custom name\n",
    "    plot_func_data(y_test, y_lower, y_upper, name=f\"Category: {category}\")\n",
    "\n",
    "\n",
    "# plot_func_data(filtered_df['test_oc'],filtered_df['lower_oc'],filtered_df['upper_oc'],\"RF\")"
   ]
  }
 ],
 "metadata": {
  "kernelspec": {
   "display_name": "conformal",
   "language": "python",
   "name": "python3"
  },
  "language_info": {
   "codemirror_mode": {
    "name": "ipython",
    "version": 3
   },
   "file_extension": ".py",
   "mimetype": "text/x-python",
   "name": "python",
   "nbconvert_exporter": "python",
   "pygments_lexer": "ipython3",
   "version": "3.6.13"
  },
  "orig_nbformat": 4
 },
 "nbformat": 4,
 "nbformat_minor": 2
}
